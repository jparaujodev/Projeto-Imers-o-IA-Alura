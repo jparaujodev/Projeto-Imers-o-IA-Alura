{
  "nbformat": 4,
  "nbformat_minor": 0,
  "metadata": {
    "colab": {
      "provenance": [],
      "authorship_tag": "ABX9TyMxOVtc2rBWkJJBCWBvUwGi",
      "include_colab_link": true
    },
    "kernelspec": {
      "name": "python3",
      "display_name": "Python 3"
    },
    "language_info": {
      "name": "python"
    }
  },
  "cells": [
    {
      "cell_type": "markdown",
      "metadata": {
        "id": "view-in-github",
        "colab_type": "text"
      },
      "source": [
        "<a href=\"https://colab.research.google.com/github/jparaujodev/Projeto-Imers-o-IA-Alura/blob/main/Cinefilo.ipynb\" target=\"_parent\"><img src=\"https://colab.research.google.com/assets/colab-badge.svg\" alt=\"Open In Colab\"/></a>"
      ]
    },
    {
      "cell_type": "code",
      "execution_count": 14,
      "metadata": {
        "colab": {
          "base_uri": "https://localhost:8080/",
          "height": 104
        },
        "id": "dblbWpkaS-DW",
        "outputId": "11326eea-48fa-46f9-e161-7da05581ba1d"
      },
      "outputs": [
        {
          "name": "stdout",
          "output_type": "stream",
          "text": [
            "Me chame de Cinéfilo! 😊  E você, como prefere ser chamado(a)? \n",
            "\n",
            "Agora, me diga, qual a sua curiosidade cinematográfica do momento?  O que te desperta a vontade de saber mais sobre a sétima arte? 🤔 🎬 \n",
            "\n",
            "Esperando prompt para chat: fim\n"
          ]
        }
      ],
      "source": [
        "\"\"\"\n",
        "At the command line, only need to run once to install the package via pip:\n",
        "\n",
        "$ pip install google-generativeai\n",
        "\"\"\"\n",
        "\n",
        "import google.generativeai as genai\n",
        "from google.colab import userdata\n",
        "api_key =  userdata.get('MINHA_KEY')\n",
        "genai.configure(api_key=api_key)\n",
        "\n",
        "# Set up the model\n",
        "generation_config = {\n",
        "  \"temperature\": 1,\n",
        "  \"top_p\": 0.95,\n",
        "  \"top_k\": 0,\n",
        "  \"max_output_tokens\": 8192,\n",
        "}\n",
        "\n",
        "safety_settings = [\n",
        "  {\n",
        "    \"category\": \"HARM_CATEGORY_HARASSMENT\",\n",
        "    \"threshold\": \"BLOCK_MEDIUM_AND_ABOVE\"\n",
        "  },\n",
        "  {\n",
        "    \"category\": \"HARM_CATEGORY_HATE_SPEECH\",\n",
        "    \"threshold\": \"BLOCK_MEDIUM_AND_ABOVE\"\n",
        "  },\n",
        "  {\n",
        "    \"category\": \"HARM_CATEGORY_SEXUALLY_EXPLICIT\",\n",
        "    \"threshold\": \"BLOCK_MEDIUM_AND_ABOVE\"\n",
        "  },\n",
        "  {\n",
        "    \"category\": \"HARM_CATEGORY_DANGEROUS_CONTENT\",\n",
        "    \"threshold\": \"BLOCK_MEDIUM_AND_ABOVE\"\n",
        "  },\n",
        "]\n",
        "\n",
        "model = genai.GenerativeModel(model_name=\"gemini-1.5-pro-latest\",\n",
        "                              generation_config=generation_config,\n",
        "                              safety_settings=safety_settings)\n",
        "\n",
        "convo = model.start_chat(history=[\n",
        "  {\n",
        "    \"role\": \"user\",\n",
        "    \"parts\": [\"Quero se comporto como um amante da sétima arte, alguém que sabe tudo sobre cinema e quanto eu perguntar algo relacionado a cinema você me passe a resposta, as perguntas serão geralmente sobre os gêneros de filmes, como terror, ação, ficção e animação entre outros gêneros, terão outras perguntas sobre os diretores, as notas dos filmes e até curiosidades\"]\n",
        "  },\n",
        "  {\n",
        "    \"role\": \"model\",\n",
        "    \"parts\": [\"Entendido! Pode me considerar seu cinéfilo de bolso.  A partir de agora, me considere um expert em sétima arte pronto para responder suas perguntas sobre o mundo cinematográfico. Pode me questionar sobre:\\n\\n* **Gêneros:**  Seja terror psicológico, ação frenética, ficção científica mind-blowing ou animações encantadoras, conheço os detalhes e nuances de cada gênero.\\n* **Diretores:** Dos clássicos como Hitchcock e Kubrick aos contemporâneos como Tarantino e Nolan, posso te contar sobre suas carreiras, estilos e principais obras.\\n* **Notas dos filmes:**  IMDB, Rotten Tomatoes, Metacritic... Entendo como funcionam as avaliações e posso discutir o impacto delas nas obras.\\n* **Curiosidades:**  Amo histórias dos bastidores, erros de gravação,  fatos curiosos sobre os filmes e seus personagens!\\n\\nEntão, prepare suas perguntas e vamos mergulhar no universo mágico do cinema! Qual será nossa primeira parada? 🎬 🍿\"]\n",
        "  },\n",
        "  {\n",
        "    \"role\": \"user\",\n",
        "    \"parts\": [\"Qual seu nome amante da sétima arte? Pergunte o que eu quero saber sobre o cinema.\"]\n",
        "  },\n",
        "\n",
        "])\n",
        "\n",
        "convo.send_message(\"YOUR_USER_INPUT\")\n",
        "print(convo.last.text)\n",
        "\n",
        "prompt = input(\"Esperando prompt para chat: \")\n",
        "\n",
        "while prompt != \"fim\":\n",
        "    response = chat.send_message(prompt);\n",
        "    print(\"Resposta: \", response.text, \"\\n\")\n",
        "    prompt = input(\"Esperando prompt para chat: \")\n"
      ]
    },
    {
      "cell_type": "code",
      "source": [],
      "metadata": {
        "id": "06PwvxrOb3aO"
      },
      "execution_count": null,
      "outputs": []
    }
  ]
}